{
 "cells": [
  {
   "cell_type": "code",
   "execution_count": 1,
   "metadata": {},
   "outputs": [
    {
     "name": "stderr",
     "output_type": "stream",
     "text": [
      "Using TensorFlow backend.\n"
     ]
    }
   ],
   "source": [
    "from __future__ import absolute_import, division, print_function, unicode_literals\n",
    "\n",
    "import keras\n",
    "from keras import backend as K\n",
    "if K.backend() == \"theano\":\n",
    "    import theano.tensor as tensor\n",
    "    Lop = tensor.Lop\n",
    "elif K.backend() == \"tensorflow\":\n",
    "    import tensorflow as tf\n",
    "    def Lop(output, wrt, eval_points):\n",
    "        grads = tf.gradients(output, wrt, grad_ys=eval_points)\n",
    "        return grads\n",
    "import types\n"
   ]
  },
  {
   "cell_type": "code",
   "execution_count": 2,
   "metadata": {
    "collapsed": true
   },
   "outputs": [],
   "source": [
    "# Used to modify the default keras Optimizer object to allow\n",
    "# for custom gradient computation.\n",
    "\n",
    "def get_gradients(self, loss, params):\n",
    "    '''\n",
    "    Replacement for the default keras get_gradients() function.\n",
    "    Modification: checks if the object has the attribute grads and \n",
    "    returns that rather than calculating the gradients using automatic\n",
    "    differentiation. \n",
    "    '''\n",
    "    if hasattr(self, 'grads'):\n",
    "        grads = self.grads\n",
    "    else:\n",
    "        grads = K.gradients(loss, params)\n",
    "    if hasattr(self, 'clipnorm') and self.clipnorm > 0:\n",
    "        norm = K.sqrt(sum([K.sum(K.square(g)) for g in grads]))\n",
    "        grads = [clip_norm(g, self.clipnorm, norm) for g in grads]\n",
    "    if hasattr(self, 'clipvalue') and self.clipvalue > 0:\n",
    "        grads = [K.clip(g, -self.clipvalue, self.clipvalue) for g in grads]\n",
    "    return grads\n"
   ]
  },
  {
   "cell_type": "code",
   "execution_count": 3,
   "metadata": {
    "collapsed": true
   },
   "outputs": [],
   "source": [
    "\n",
    "def replace_gradients_mse(model, opt, batch_size, n_samples = 1):\n",
    "    '''\n",
    "    Replace the gradients of a Keras model with mean square error loss.\n",
    "    '''\n",
    "    # targets has been repeated twice so the below creates two identical columns\n",
    "    # of the target values - we'll only use the first column.\n",
    "    targets = K.reshape(model.targets[0], (batch_size, n_samples * 2))\n",
    "    output =  K.mean(K.reshape(model.outputs[0], (batch_size, n_samples, 2)), axis=1)\n",
    "    # compute d Loss / d output\n",
    "    dL_dOutput = (output[:,0] - targets[:,0]) * (2.) / batch_size\n",
    "    # compute (d Loss / d output) (d output / d theta) for each theta\n",
    "    trainable_weights = model.trainable_weights\n",
    "    grads = Lop(output[:,1], wrt=trainable_weights, eval_points=dL_dOutput) \n",
    "    # compute regularizer gradients\n",
    "\n",
    "    # add loss with respect to regularizers\n",
    "    reg_loss = model.total_loss * 0.\n",
    "    for r in model.losses:\n",
    "         reg_loss += r\n",
    "    reg_grads = K.gradients(reg_loss, trainable_weights)\n",
    "    grads = [g+r for g,r in zip(grads, reg_grads)]\n",
    "    \n",
    "    opt = keras.optimizers.get(opt)\n",
    "    # Patch keras gradient calculation to allow for user defined gradients\n",
    "    opt.get_gradients = types.MethodType( get_gradients, opt )\n",
    "    opt.grads = grads\n",
    "    model.optimizer = opt\n",
    "    return model\n"
   ]
  },
  {
   "cell_type": "code",
   "execution_count": 4,
   "metadata": {
    "collapsed": true
   },
   "outputs": [],
   "source": [
    "\n",
    "def build_mc_mse_loss(n_samples):\n",
    "    def mc_mse(y_true, y_predicted):\n",
    "        n_examples = y_true.shape[0] /  n_samples / 2\n",
    "        targets = y_true.reshape((n_examples , n_samples * 2))\n",
    "        output = y_predicted.reshape((n_examples, n_samples * 2)).mean(axis=1)\n",
    "        return K.mean(K.square(targets[:,0] - output))\n",
    "    return mc_mse\n",
    "\n"
   ]
  },
  {
   "cell_type": "code",
   "execution_count": null,
   "metadata": {
    "collapsed": true
   },
   "outputs": [],
   "source": []
  }
 ],
 "metadata": {
  "kernelspec": {
   "display_name": "Python 3",
   "language": "python",
   "name": "python3"
  },
  "language_info": {
   "codemirror_mode": {
    "name": "ipython",
    "version": 3
   },
   "file_extension": ".py",
   "mimetype": "text/x-python",
   "name": "python",
   "nbconvert_exporter": "python",
   "pygments_lexer": "ipython3",
   "version": "3.6.4"
  }
 },
 "nbformat": 4,
 "nbformat_minor": 2
}
