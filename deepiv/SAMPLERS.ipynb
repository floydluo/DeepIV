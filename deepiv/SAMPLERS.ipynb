{
 "cells": [
  {
   "cell_type": "code",
   "execution_count": 1,
   "metadata": {},
   "outputs": [
    {
     "name": "stderr",
     "output_type": "stream",
     "text": [
      "Using TensorFlow backend.\n"
     ]
    }
   ],
   "source": [
    "from __future__ import absolute_import, division, print_function, unicode_literals\n",
    "\n",
    "import numpy\n",
    "from keras import backend as K\n",
    "from keras.engine.topology import InputLayer\n",
    "\n",
    "if K.backend() == \"theano\":\n",
    "    from theano.sandbox.rng_mrg import MRG_RandomStreams as RandomStreams\n",
    "    _FLOATX = theano.config.floatX\n",
    "else:\n",
    "    import tensorflow as tf"
   ]
  },
  {
   "cell_type": "code",
   "execution_count": 2,
   "metadata": {
    "collapsed": true
   },
   "outputs": [],
   "source": [
    "def random_laplace(shape, mu=0., b=1.):\n",
    "    '''\n",
    "    Draw random samples from a Laplace distriubtion.\n",
    "\n",
    "    See: https://en.wikipedia.org/wiki/Laplace_distribution#Generating_random_variables_according_to_the_Laplace_distribution\n",
    "    '''\n",
    "    U = K.random_uniform(shape, -0.5, 0.5)\n",
    "    return mu - b * K.sign(U) * K.log(1 - 2 * K.abs(U))"
   ]
  },
  {
   "cell_type": "code",
   "execution_count": 3,
   "metadata": {
    "collapsed": true
   },
   "outputs": [],
   "source": [
    "def random_normal(shape, mean=0.0, std=1.0):\n",
    "    return K.random_normal(shape, mean, std)\n"
   ]
  },
  {
   "cell_type": "code",
   "execution_count": 4,
   "metadata": {
    "collapsed": true
   },
   "outputs": [],
   "source": [
    "def random_multinomial(logits, seed=None):\n",
    "    '''\n",
    "    Theano function for sampling from a multinomal with probability given by `logits`\n",
    "    '''\n",
    "    if K.backend() == \"theano\":\n",
    "        if seed is None:\n",
    "            seed = numpy.random.randint(1, 10e6)\n",
    "        rng = RandomStreams(seed=seed)\n",
    "        return rng.multinomial(n=1, pvals=logits, ndim=None, dtype=_FLOATX)\n",
    "    elif K.backend() == \"tensorflow\":\n",
    "        return tf.one_hot(tf.squeeze(tf.multinomial(K.log(logits), num_samples=1)),\n",
    "                          int(logits.shape[1]))\n"
   ]
  },
  {
   "cell_type": "code",
   "execution_count": 5,
   "metadata": {
    "collapsed": true
   },
   "outputs": [],
   "source": [
    "\n",
    "def random_gmm(pi, mu, sig):\n",
    "    '''\n",
    "    Sample from a gaussian mixture model. \n",
    "    Returns one sample for each row in the pi, mu and sig matrices... \n",
    "    this is potentially wasteful \n",
    "    (because you have to repeat the matrices n times if you want to get n samples), \n",
    "    but makes it easy to implment code \n",
    "    where the parameters vary as they are conditioned on different datapoints.\n",
    "    '''\n",
    "    normals = random_normal(K.shape(mu), mu, sig)\n",
    "    k = random_multinomial(pi)\n",
    "    return K.sum(normals * k, axis=1, keepdims=True)\n"
   ]
  },
  {
   "cell_type": "code",
   "execution_count": null,
   "metadata": {
    "collapsed": true
   },
   "outputs": [],
   "source": []
  }
 ],
 "metadata": {
  "kernelspec": {
   "display_name": "Python 3",
   "language": "python",
   "name": "python3"
  },
  "language_info": {
   "codemirror_mode": {
    "name": "ipython",
    "version": 3
   },
   "file_extension": ".py",
   "mimetype": "text/x-python",
   "name": "python",
   "nbconvert_exporter": "python",
   "pygments_lexer": "ipython3",
   "version": "3.6.4"
  }
 },
 "nbformat": 4,
 "nbformat_minor": 2
}
