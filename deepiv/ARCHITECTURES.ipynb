{
 "cells": [
  {
   "cell_type": "code",
   "execution_count": 2,
   "metadata": {},
   "outputs": [
    {
     "name": "stderr",
     "output_type": "stream",
     "text": [
      "Using TensorFlow backend.\n"
     ]
    }
   ],
   "source": [
    "from __future__ import absolute_import, division, print_function, unicode_literals\n",
    "\n",
    "import keras\n",
    "import keras.backend as K\n",
    "from keras.layers import (Convolution2D, Dense, Dropout, Flatten,\n",
    "                          MaxPooling2D)\n",
    "from keras.models import Sequential\n",
    "from keras.regularizers import l2\n",
    "from keras.constraints import maxnorm\n",
    "from keras.utils import np_utils\n",
    "\n",
    "import numpy as np\n"
   ]
  },
  {
   "cell_type": "code",
   "execution_count": 4,
   "metadata": {
    "collapsed": true
   },
   "outputs": [],
   "source": [
    "\n",
    "def feed_forward_net(input, output, \n",
    "                     hidden_layers=[64, 64], \n",
    "                     activations='relu',\n",
    "                     dropout_rate=0., l2=0., constrain_norm=False):\n",
    "    '''\n",
    "    Helper function for building a Keras feed forward network.\n",
    "\n",
    "    input:  Keras Input object appropriate for the data. \n",
    "            e.g. input=Input(shape=(20,))\n",
    "    output: Function representing final layer for the network \n",
    "            that maps from the last hidden layer to output.\n",
    "            e.g. \n",
    "            if output = Dense(10, activation='softmax') \n",
    "            if we're doing 10 class classification \n",
    "            or \n",
    "            output = Dense(1, activation='linear') \n",
    "            if we're doing regression.\n",
    "    '''\n",
    "    state = input\n",
    "    if isinstance(activations, str):\n",
    "        activations = [activations] * len(hidden_layers)\n",
    "    \n",
    "    for h, a in zip(hidden_layers, activations):\n",
    "        if l2 > 0.:\n",
    "            w_reg = keras.regularizers.l2(l2)\n",
    "        else:\n",
    "            w_reg = None\n",
    "        const = maxnorm(2) if constrain_norm else  None\n",
    "        state = Dense(h, activation=a, kernel_regularizer=w_reg, kernel_constraint=const)(state)\n",
    "        if dropout_rate > 0.:\n",
    "            state = Dropout(dropout_rate)(state)\n",
    "    return output(state)\n"
   ]
  },
  {
   "cell_type": "code",
   "execution_count": 5,
   "metadata": {
    "collapsed": true
   },
   "outputs": [],
   "source": [
    "\n",
    "def convnet(input, output, \n",
    "            dropout_rate=0., \n",
    "            input_shape=(1, 28, 28), # size of MNIST image\n",
    "            batch_size=100,\n",
    "            l2_rate=0.001, \n",
    "            nb_epoch=12, \n",
    "            img_rows=28, img_cols=28, \n",
    "            nb_filters=64,           # convontional neural network\n",
    "            pool_size=(2, 2), kernel_size=(3, 3), \n",
    "            activations='relu', \n",
    "            constrain_norm=False):\n",
    "    '''\n",
    "    Helper function for building a Keras convolutional network.\n",
    "\n",
    "    input:  Keras Input object appropriate for the data. \n",
    "            e.g. input=Input(shape=(20,))\n",
    "            \n",
    "    output: Function representing final layer for the network \n",
    "            that maps from the last hidden layer to output.\n",
    "            e.g. \n",
    "            if output = Dense(10, activation='softmax') \n",
    "            if we're doing 10 class classification or \n",
    "            output = Dense(1, activation='linear') \n",
    "            if we're doing regression.\n",
    "    '''\n",
    "    const = maxnorm(2) if constrain_norm else None\n",
    "\n",
    "    state = Convolution2D(nb_filters, kernel_size, padding='valid',\n",
    "                          input_shape=input_shape, activation=activations,\n",
    "                          kernel_regularizer=l2(l2_rate), kernel_constraint=const)(input)\n",
    "\n",
    "    state = Convolution2D(nb_filters, kernel_size,\n",
    "                          activation=activations, kernel_regularizer=l2(l2_rate),\n",
    "                          kernel_constraint=const)(state)\n",
    "\n",
    "    state = MaxPooling2D(pool_size=pool_size)(state)\n",
    "\n",
    "    state = Flatten()(state)\n",
    "\n",
    "    if dropout_rate > 0.:\n",
    "        state = Dropout(dropout_rate)(state)\n",
    "    state = Dense(128, activation=activations, kernel_regularizer=l2(l2_rate), kernel_constraint=const)(state)\n",
    "\n",
    "    if dropout_rate > 0.:\n",
    "        state = Dropout(dropout_rate)(state)\n",
    "    return output(state)\n"
   ]
  },
  {
   "cell_type": "code",
   "execution_count": 6,
   "metadata": {
    "collapsed": true
   },
   "outputs": [],
   "source": [
    "def feature_to_image(features, height=28, width=28, channels=1, backend=K):\n",
    "    '''\n",
    "    Reshape a flattened image to the input format for convolutions.\n",
    "\n",
    "    Can be used either as a Keras operation using the default backend \n",
    "    or\n",
    "    with numpy by using the argument backend=np\n",
    "\n",
    "    Conforms to the image data format setting defined in ~/.keras/keras.json\n",
    "    '''\n",
    "    if K.image_data_format() == \"channels_first\":\n",
    "        return backend.reshape(features, (-1, channels, height, width))\n",
    "    else:\n",
    "        return backend.reshape(features, (-1, height, width, channels))"
   ]
  },
  {
   "cell_type": "code",
   "execution_count": null,
   "metadata": {
    "collapsed": true
   },
   "outputs": [],
   "source": []
  }
 ],
 "metadata": {
  "kernelspec": {
   "display_name": "Python 3",
   "language": "python",
   "name": "python3"
  },
  "language_info": {
   "codemirror_mode": {
    "name": "ipython",
    "version": 3
   },
   "file_extension": ".py",
   "mimetype": "text/x-python",
   "name": "python",
   "nbconvert_exporter": "python",
   "pygments_lexer": "ipython3",
   "version": "3.6.4"
  }
 },
 "nbformat": 4,
 "nbformat_minor": 2
}
