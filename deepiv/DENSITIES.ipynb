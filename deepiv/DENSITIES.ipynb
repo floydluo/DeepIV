{
 "cells": [
  {
   "cell_type": "code",
   "execution_count": 14,
   "metadata": {},
   "outputs": [],
   "source": [
    "from __future__ import absolute_import, division, print_function, unicode_literals\n",
    "\n",
    "import numpy\n",
    "import keras\n",
    "from keras import backend as K\n",
    "\n",
    "from keras.layers.merge import Concatenate\n",
    "from keras.layers import Lambda\n",
    "from keras.layers.core import Reshape\n",
    "\n",
    "import numpy as np"
   ]
  },
  {
   "cell_type": "markdown",
   "metadata": {},
   "source": [
    "# 1. Mixture of Gaussian Output"
   ]
  },
  {
   "cell_type": "code",
   "execution_count": 7,
   "metadata": {
    "collapsed": true
   },
   "outputs": [],
   "source": [
    "def mixture_of_gaussian_output(x, n_components):\n",
    "    mu      = keras.layers.Dense(n_components, activation='linear')(x)\n",
    "    log_sig = keras.layers.Dense(n_components, activation='linear')(x)\n",
    "    pi      = keras.layers.Dense(n_components, activation='softmax')(x)\n",
    "    return Concatenate(axis=1)([pi, mu, log_sig])"
   ]
  },
  {
   "cell_type": "code",
   "execution_count": 8,
   "metadata": {},
   "outputs": [],
   "source": [
    "from keras.layers import Input, Dense\n",
    "from keras.models import Model"
   ]
  },
  {
   "cell_type": "code",
   "execution_count": 10,
   "metadata": {},
   "outputs": [
    {
     "name": "stderr",
     "output_type": "stream",
     "text": [
      "/Users/floyd/Environments/anaconda3/lib/python3.6/site-packages/ipykernel_launcher.py:7: UserWarning: Update your `Model` call to the Keras 2 API: `Model(inputs=Tensor(\"GM..., outputs=Tensor(\"co...)`\n",
      "  import sys\n"
     ]
    },
    {
     "data": {
      "text/plain": [
       "<keras.engine.training.Model at 0x1819a49588>"
      ]
     },
     "execution_count": 10,
     "metadata": {},
     "output_type": "execute_result"
    }
   ],
   "source": [
    "n_components = 10\n",
    "GM_coef_input = Input(shape = (32,), name = 'GM_coef_input')\n",
    "\n",
    "GM_coef_est   = mixture_of_gaussian_output(GM_coef_input, n_components)\n",
    "\n",
    "GM_coef_model = Model(inputs = GM_coef_input, \n",
    "                      output = GM_coef_est)\n",
    "\n",
    "GM_coef_model"
   ]
  },
  {
   "cell_type": "code",
   "execution_count": 12,
   "metadata": {},
   "outputs": [],
   "source": [
    "GM_coef_model.compile('adam', loss='mse')"
   ]
  },
  {
   "cell_type": "code",
   "execution_count": 35,
   "metadata": {},
   "outputs": [
    {
     "data": {
      "text/plain": [
       "(1, 32)"
      ]
     },
     "execution_count": 35,
     "metadata": {},
     "output_type": "execute_result"
    }
   ],
   "source": [
    "x = np.random.randn(32)\n",
    "x = x.reshape(1,32)\n",
    "x.shape"
   ]
  },
  {
   "cell_type": "code",
   "execution_count": 36,
   "metadata": {},
   "outputs": [
    {
     "data": {
      "text/plain": [
       "array([[ 0.13956996,  0.106548  , -1.63864014, -0.21124345, -1.33505464,\n",
       "        -1.67440698, -1.64551394,  0.46850645,  0.93785556,  0.05488123,\n",
       "         0.4662185 , -1.6386602 , -0.52623273, -1.50079625, -1.93973896,\n",
       "        -0.57059798,  1.26395749, -0.85389492, -1.21701524,  1.28780954,\n",
       "        -1.18867975,  0.31669076, -0.3802014 , -1.17859141, -0.16894064,\n",
       "         0.23787471, -1.11929253,  1.48657053, -0.89567899,  0.82242094,\n",
       "         0.81376111, -0.85449572]])"
      ]
     },
     "execution_count": 36,
     "metadata": {},
     "output_type": "execute_result"
    }
   ],
   "source": [
    "x  # 32"
   ]
  },
  {
   "cell_type": "code",
   "execution_count": 39,
   "metadata": {},
   "outputs": [
    {
     "data": {
      "text/plain": [
       "array([[ 0.17760766,  0.00609762,  0.07993325,  0.01104008,  0.0523461 ,\n",
       "         0.24972679,  0.3087008 ,  0.02423287,  0.03855328,  0.05176151,\n",
       "        -2.26054192, -0.21945223, -0.45609069,  0.89338118, -0.93940842,\n",
       "        -0.60538924, -1.76229751,  0.76731324,  0.36846834,  1.79476452,\n",
       "        -0.70900208, -2.15119624, -0.3035385 , -0.19439793,  0.27171034,\n",
       "        -0.52836764, -0.71464032,  1.775406  , -0.72344625, -1.26091707]], dtype=float32)"
      ]
     },
     "execution_count": 39,
     "metadata": {},
     "output_type": "execute_result"
    }
   ],
   "source": [
    "est = GM_coef_model.predict(x) # 30\n",
    "est"
   ]
  },
  {
   "cell_type": "code",
   "execution_count": 40,
   "metadata": {},
   "outputs": [
    {
     "data": {
      "text/plain": [
       "<tf.Tensor 'concatenate_2/concat:0' shape=(?, 30) dtype=float32>"
      ]
     },
     "execution_count": 40,
     "metadata": {},
     "output_type": "execute_result"
    }
   ],
   "source": [
    "GM_coef_est"
   ]
  },
  {
   "cell_type": "markdown",
   "metadata": {},
   "source": [
    "# 2. Mixture of Gaussian Loss"
   ]
  },
  {
   "cell_type": "code",
   "execution_count": 47,
   "metadata": {
    "collapsed": true
   },
   "outputs": [],
   "source": [
    "def split(start, stop):\n",
    "    return Lambda(lambda x: x[:, start:stop], output_shape=(None, stop-start))"
   ]
  },
  {
   "cell_type": "code",
   "execution_count": 48,
   "metadata": {},
   "outputs": [],
   "source": [
    "# here x is the GM_coef_est\n",
    "def split_mixture_of_gaussians(x, n_components):\n",
    "    pi = split(0, n_components)(x)\n",
    "    mu = split(n_components, 2*n_components)(x)\n",
    "    log_sig = split(2*n_components, 3*n_components)(x)\n",
    "    return pi, mu, log_sig"
   ]
  },
  {
   "cell_type": "code",
   "execution_count": 49,
   "metadata": {
    "collapsed": true
   },
   "outputs": [],
   "source": [
    "# 逐元素clip（将超出指定范围的数强制变为边界值）\n",
    "# K.clip?"
   ]
  },
  {
   "cell_type": "code",
   "execution_count": 65,
   "metadata": {
    "collapsed": true
   },
   "outputs": [],
   "source": [
    "def log_norm_pdf(x, mu, log_sig, log = True):\n",
    "    z = (x - mu) / (K.exp(K.clip(log_sig, -40, 40))) #TODO: get rid of this clipping\n",
    "\n",
    "    return -(0.5)*K.log(2*numpy.pi) - log_sig - 0.5*((z)**2)"
   ]
  },
  {
   "cell_type": "code",
   "execution_count": 55,
   "metadata": {},
   "outputs": [
    {
     "name": "stdout",
     "output_type": "stream",
     "text": [
      "Tensor(\"lambda_7/strided_slice:0\", shape=(?, 10), dtype=float32)\n",
      "Tensor(\"lambda_8/strided_slice:0\", shape=(?, 10), dtype=float32)\n",
      "Tensor(\"lambda_9/strided_slice:0\", shape=(?, 10), dtype=float32)\n"
     ]
    }
   ],
   "source": [
    "y_pred = GM_coef_est\n",
    "pi, mu, log_sig = split_mixture_of_gaussians(y_pred, n_components)\n",
    "\n",
    "print(pi)\n",
    "print(mu)\n",
    "print(log_sig)"
   ]
  },
  {
   "cell_type": "code",
   "execution_count": null,
   "metadata": {
    "collapsed": true
   },
   "outputs": [],
   "source": [
    "x.set_shape([None, 1])"
   ]
  },
  {
   "cell_type": "code",
   "execution_count": 5,
   "metadata": {
    "collapsed": true
   },
   "outputs": [],
   "source": [
    "def mix_gaussian_loss(price_true, mu, log_sig, pi):\n",
    "    '''\n",
    "    Combine the mixture of gaussian distribution and \n",
    "    the loss into a single function\n",
    "    so that we can do the log sum exp trick for numerical stability...\n",
    "    '''\n",
    "    if K.backend() == \"tensorflow\":\n",
    "        price_true.set_shape([None, 1])\n",
    "    log_norm_value = log_norm_pdf(K.repeat_elements(x=price_true, rep=mu.shape[1], axis=1), \n",
    "                                  mu, \n",
    "                                  log_sig)\n",
    "    # TODO: get rid of clipping.\n",
    "    log_norm_value = K.clip(log_norm_value, -40, 40)\n",
    "    # K.maximum 逐元素取两个张量的最大元素\n",
    "    log_norm_value_max = K.maximum((0.), K.max(log_norm_value))\n",
    "    # if log_norm_value_max is 0\n",
    "    #     which means **norm_value** are all samller than 1\n",
    "    # if log_norm_value_max is bigger than 1\n",
    "    #     then, log_norm_value = log_norm_value - log_norm_value_max\n",
    "    #     makes every element in **norm_value** is samller than 1\n",
    "    # log sum exp trick...\n",
    "    log_norm_value = log_norm_value - log_norm_value_max\n",
    "    out = K.sum(pi * K.exp(log_norm_value), axis=1)\n",
    "    # -K.log(out) is the key.\n",
    "    loss = K.mean(-K.log(out) + log_norm_value_max) \n",
    "    return loss"
   ]
  },
  {
   "cell_type": "code",
   "execution_count": 64,
   "metadata": {},
   "outputs": [
    {
     "data": {
      "text/plain": [
       "array([ 0.24751594,  0.39893763,  0.37075068,  0.0854133 ,  0.33643236,\n",
       "        0.35966641,  0.37529869,  0.30508083,  0.03901266,  0.39857178])"
      ]
     },
     "execution_count": 64,
     "metadata": {},
     "output_type": "execute_result"
    }
   ],
   "source": [
    "import scipy as sp\n",
    "\n",
    "from scipy.stats import norm\n",
    "\n",
    "norm.pdf(np.random.randn(10))"
   ]
  },
  {
   "cell_type": "code",
   "execution_count": 7,
   "metadata": {
    "collapsed": true
   },
   "outputs": [],
   "source": [
    "def mixture_of_gaussian_loss(price_true, GM_coef_est, n_components):\n",
    "    pi, mu, log_sig = split_mixture_of_gaussians(GM_coef_est, n_components)\n",
    "    return mix_gaussian_loss(price_true, mu, log_sig, pi)"
   ]
  },
  {
   "cell_type": "markdown",
   "metadata": {},
   "source": [
    "# 3. Summary"
   ]
  },
  {
   "cell_type": "code",
   "execution_count": 8,
   "metadata": {
    "collapsed": true
   },
   "outputs": [],
   "source": [
    "def mixture_gaussian(n_components):\n",
    "    '''\n",
    "    Build a mixture of gaussian output and loss function that may be used in a keras graph.\n",
    "    '''\n",
    "\n",
    "    def output(x):\n",
    "        return mixture_of_gaussian_output(x, n_components)\n",
    "\n",
    "    def keras_loss(y, x):\n",
    "        return mixture_of_gaussian_loss(y, x, n_components)\n",
    "    return output, keras_loss\n",
    "\n"
   ]
  }
 ],
 "metadata": {
  "kernelspec": {
   "display_name": "Python 3",
   "language": "python",
   "name": "python3"
  },
  "language_info": {
   "codemirror_mode": {
    "name": "ipython",
    "version": 3
   },
   "file_extension": ".py",
   "mimetype": "text/x-python",
   "name": "python",
   "nbconvert_exporter": "python",
   "pygments_lexer": "ipython3",
   "version": "3.6.4"
  }
 },
 "nbformat": 4,
 "nbformat_minor": 2
}
