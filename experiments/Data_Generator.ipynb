{
 "cells": [
  {
   "cell_type": "code",
   "execution_count": 52,
   "metadata": {
    "collapsed": true
   },
   "outputs": [],
   "source": [
    "from __future__ import absolute_import, division, print_function, unicode_literals\n",
    "\n",
    "import numpy as np \n",
    "#from causenet.datastream import DataStream, prepare_datastream\n",
    "from sklearn.preprocessing import OneHotEncoder"
   ]
  },
  {
   "cell_type": "code",
   "execution_count": 53,
   "metadata": {
    "collapsed": true
   },
   "outputs": [],
   "source": [
    "X_mnist = None\n",
    "y_mnist = None"
   ]
  },
  {
   "cell_type": "code",
   "execution_count": 54,
   "metadata": {
    "collapsed": true
   },
   "outputs": [],
   "source": [
    "def monte_carlo_error(g_hat, data_fn, ntest=5000, has_latent=False, debug=False):\n",
    "    seed = np.random.randint(1e9)\n",
    "    try:\n",
    "        # test = True ensures we draw test set images\n",
    "        x, z, t, y, g_true = data_fn(ntest, seed, test=True)\n",
    "    except ValueError:\n",
    "        warnings.warn(\"Too few images, reducing test set size\")\n",
    "        ntest = int(ntest * 0.7)\n",
    "        # test = True ensures we draw test set images\n",
    "        x, z, t, y, g_true = data_fn(ntest, seed, test=True)\n",
    "\n",
    "    ## re-draw to get new independent treatment and implied response\n",
    "    t = np.linspace(np.percentile(t, 2.5),np.percentile(t, 97.5),ntest).reshape(-1, 1)\n",
    "    ## we need to make sure z _never_ does anything in these g functions (fitted and true)\n",
    "    ## above is necesary so that reduced form doesn't win\n",
    "    if has_latent:\n",
    "        x_latent, _, _, _, _ = data_fn(ntest, seed, images=False)\n",
    "        y = g_true(x_latent, z, t)\n",
    "    else:\n",
    "        y = g_true(x, z, t)\n",
    "    y_true = y.flatten()\n",
    "    y_hat = g_hat(x, z, t).flatten()\n",
    "    return ((y_hat - y_true)**2).mean()"
   ]
  },
  {
   "cell_type": "code",
   "execution_count": 55,
   "metadata": {
    "collapsed": true
   },
   "outputs": [],
   "source": [
    "def loadmnist():\n",
    "    '''\n",
    "    Load the mnist data once into global variables X_mnist and y_mnist.\n",
    "    '''\n",
    "    from keras.datasets import mnist\n",
    "    global X_mnist\n",
    "    global y_mnist\n",
    "    train, test = mnist.load_data()\n",
    "    X_mnist = []\n",
    "    y_mnist = []\n",
    "    for d in [train, test]:\n",
    "        X, y = d\n",
    "        X = X.astype('float32')\n",
    "        X /= 255.\n",
    "        idx = np.argsort(y)\n",
    "        X_mnist.append(X[idx, :, :])\n",
    "        y_mnist.append(y[idx])"
   ]
  },
  {
   "cell_type": "code",
   "execution_count": 56,
   "metadata": {
    "collapsed": true
   },
   "outputs": [],
   "source": [
    "def get_images(digit, n, seed=None, testset=False):\n",
    "    if X_mnist is None:\n",
    "        loadmnist()\n",
    "    is_test = int(testset)\n",
    "    rng = np.random.RandomState(seed)\n",
    "    X_i = X_mnist[is_test][y_mnist[is_test] == digit, :, :]\n",
    "    n_i, i, j = X_i.shape\n",
    "    perm = rng.permutation(np.arange(n_i))\n",
    "    if n > n_i:\n",
    "        raise ValueError('You requested %d images of digit %d when there are \\\n",
    "                          only %d unique images in the %s set.' % (n, digit, n_i, 'test' if testset else 'training'))\n",
    "    return X_i[perm[0:n], :, :].reshape((n,i*j))"
   ]
  },
  {
   "cell_type": "code",
   "execution_count": 57,
   "metadata": {
    "collapsed": true
   },
   "outputs": [],
   "source": [
    "def one_hot(col, **kwargs):\n",
    "    z = col.reshape(-1,1)\n",
    "    enc = OneHotEncoder(sparse=False, **kwargs)\n",
    "    return enc.fit_transform(z)"
   ]
  },
  {
   "cell_type": "code",
   "execution_count": 58,
   "metadata": {
    "collapsed": true
   },
   "outputs": [],
   "source": [
    "def get_test_valid_train(generator, n, batch_size=128, seed=123, **kwargs):\n",
    "    x, z, t, y, g = generator(n=int(n*0.6), seed=seed, **kwargs)\n",
    "    train = prepare_datastream(x, z, t, y, True, batch_size, **kwargs)\n",
    "    x, z, t, y, g = generator(n=int(n*0.2), seed=seed+1, **kwargs)\n",
    "    valid = prepare_datastream(x, z, t, y, False, batch_size, **kwargs)\n",
    "    x, z, t, y, g = generator(n=int(n*0.2), seed=seed+2, **kwargs)\n",
    "    test = prepare_datastream(x, z, t, y, False, batch_size, **kwargs)\n",
    "    return train, valid, test, g"
   ]
  },
  {
   "cell_type": "markdown",
   "metadata": {},
   "source": [
    "---\n",
    "\n",
    "## 4. Experiments\n",
    "\n",
    "### 4.1 Simulations\n",
    "\n",
    "$$\\psi_t = 2\\{ \\frac{(t-5)^4}{600} + exp[-4(t-5)^2] + \\frac{t}{10} -2\\}$$"
   ]
  },
  {
   "cell_type": "code",
   "execution_count": 59,
   "metadata": {
    "collapsed": true
   },
   "outputs": [],
   "source": [
    "def sensf(x):\n",
    "    return 2.0*((x - 5)**4 / 600 + np.exp(-((x - 5)/0.5)**2) + x/10. - 2)\n",
    "\n",
    "def emocoef(emo):\n",
    "    emoc = (emo * np.array([1., 2., 3., 4., 5., 6., 7.])[None, :]).sum(axis=1)\n",
    "    return emoc"
   ]
  },
  {
   "cell_type": "markdown",
   "metadata": {},
   "source": [
    "---"
   ]
  },
  {
   "cell_type": "code",
   "execution_count": 60,
   "metadata": {
    "collapsed": true
   },
   "outputs": [],
   "source": [
    "psd = 3.7\n",
    "pmu = 17.779\n",
    "ysd = 158.#292.\n",
    "ymu = -292.1"
   ]
  },
  {
   "cell_type": "code",
   "execution_count": 61,
   "metadata": {
    "collapsed": true
   },
   "outputs": [],
   "source": [
    "def storeg(x, price):\n",
    "    emoc = emocoef(x[:, 1:])\n",
    "    time = x[:, 0]\n",
    "    g = sensf(time)*emoc*10. + (emoc*sensf(time)-2.0)*(psd*price.flatten() + pmu)\n",
    "    y = (g - ymu)/ysd\n",
    "    return y.reshape(-1, 1)"
   ]
  },
  {
   "cell_type": "code",
   "execution_count": 105,
   "metadata": {
    "collapsed": true
   },
   "outputs": [],
   "source": [
    "\n",
    "def demand(n, seed=1, ynoise=1., pnoise=1., ypcor=0.8, use_images=False, test=False):\n",
    "    \n",
    "    rng = np.random.RandomState(seed)\n",
    "\n",
    "    # covariates: time and emotion\n",
    "    time = rng.rand(n) * 10\n",
    "    emotion_id = rng.randint(0, 7, size=n)\n",
    "    emotion = one_hot(emotion_id, n_values=7)\n",
    "    if use_images:\n",
    "        idx = np.argsort(emotion_id)\n",
    "        emotion_feature = np.zeros((0, 28*28))\n",
    "        for i in range(7):\n",
    "            img = get_images(i, np.sum(emotion_id == i), seed, test)\n",
    "            emotion_feature = np.vstack([emotion_feature, img])\n",
    "        reorder = np.argsort(idx)\n",
    "        emotion_feature = emotion_feature[reorder, :]\n",
    "    else:\n",
    "        emotion_feature = emotion\n",
    "\n",
    "    # random instrument\n",
    "    z = rng.randn(n)\n",
    "\n",
    "    # z -> price\n",
    "    v = rng.randn(n)*pnoise\n",
    "    price = sensf(time)*(z + 3)  + 25.\n",
    "    price = price + v\n",
    "    price = (price - pmu)/psd\n",
    "\n",
    "    # true observable demand function\n",
    "    x = np.concatenate([time.reshape((-1, 1)), emotion_feature], axis=1)\n",
    "    x_latent = np.concatenate([time.reshape((-1, 1)), emotion], axis=1)\n",
    "    g = lambda x, z, p: storeg(x, p) # doesn't use z\n",
    "\n",
    "    # errors \n",
    "    e = (ypcor*ynoise/pnoise)*v + rng.randn(n)*ynoise*np.sqrt(1-ypcor**2)\n",
    "    e = e.reshape(-1, 1)\n",
    "    \n",
    "    # response\n",
    "    y = g(x_latent, None, price) + e\n",
    "\n",
    "    return (x,\n",
    "            z.reshape((-1, 1)),\n",
    "            price.reshape((-1, 1)),\n",
    "            y.reshape((-1, 1)),\n",
    "            g)"
   ]
  },
  {
   "cell_type": "code",
   "execution_count": 106,
   "metadata": {},
   "outputs": [],
   "source": [
    "seed = 1\n",
    "rng = np.random.RandomState(seed)"
   ]
  },
  {
   "cell_type": "code",
   "execution_count": 107,
   "metadata": {},
   "outputs": [
    {
     "data": {
      "text/plain": [
       "array([  4.17022005e+00,   7.20324493e+00,   1.14374817e-03,\n",
       "         3.02332573e+00,   1.46755891e+00,   9.23385948e-01,\n",
       "         1.86260211e+00,   3.45560727e+00,   3.96767474e+00,\n",
       "         5.38816734e+00,   4.19194514e+00,   6.85219500e+00,\n",
       "         2.04452250e+00,   8.78117436e+00,   2.73875932e-01,\n",
       "         6.70467510e+00,   4.17304802e+00,   5.58689828e+00,\n",
       "         1.40386939e+00,   1.98101489e+00])"
      ]
     },
     "execution_count": 107,
     "metadata": {},
     "output_type": "execute_result"
    }
   ],
   "source": [
    "n = 20\n",
    "time = rng.rand(n) * 10 # time ~ unif(0,10)\n",
    "time"
   ]
  },
  {
   "cell_type": "code",
   "execution_count": 108,
   "metadata": {},
   "outputs": [
    {
     "data": {
      "text/plain": [
       "array([5, 1, 1, 5, 6, 1, 1, 0, 4, 1, 0, 0, 5, 3, 2, 1, 0, 6, 3, 6])"
      ]
     },
     "execution_count": 108,
     "metadata": {},
     "output_type": "execute_result"
    }
   ],
   "source": [
    "emotion_id = rng.randint(0, 7, size=n)\n",
    "emotion_id # s"
   ]
  },
  {
   "cell_type": "code",
   "execution_count": 109,
   "metadata": {},
   "outputs": [
    {
     "data": {
      "text/plain": [
       "array([[ 0.,  0.,  0.,  0.,  0.,  1.,  0.],\n",
       "       [ 0.,  1.,  0.,  0.,  0.,  0.,  0.],\n",
       "       [ 0.,  1.,  0.,  0.,  0.,  0.,  0.],\n",
       "       [ 0.,  0.,  0.,  0.,  0.,  1.,  0.],\n",
       "       [ 0.,  0.,  0.,  0.,  0.,  0.,  1.],\n",
       "       [ 0.,  1.,  0.,  0.,  0.,  0.,  0.],\n",
       "       [ 0.,  1.,  0.,  0.,  0.,  0.,  0.],\n",
       "       [ 1.,  0.,  0.,  0.,  0.,  0.,  0.],\n",
       "       [ 0.,  0.,  0.,  0.,  1.,  0.,  0.],\n",
       "       [ 0.,  1.,  0.,  0.,  0.,  0.,  0.],\n",
       "       [ 1.,  0.,  0.,  0.,  0.,  0.,  0.],\n",
       "       [ 1.,  0.,  0.,  0.,  0.,  0.,  0.],\n",
       "       [ 0.,  0.,  0.,  0.,  0.,  1.,  0.],\n",
       "       [ 0.,  0.,  0.,  1.,  0.,  0.,  0.],\n",
       "       [ 0.,  0.,  1.,  0.,  0.,  0.,  0.],\n",
       "       [ 0.,  1.,  0.,  0.,  0.,  0.,  0.],\n",
       "       [ 1.,  0.,  0.,  0.,  0.,  0.,  0.],\n",
       "       [ 0.,  0.,  0.,  0.,  0.,  0.,  1.],\n",
       "       [ 0.,  0.,  0.,  1.,  0.,  0.,  0.],\n",
       "       [ 0.,  0.,  0.,  0.,  0.,  0.,  1.]])"
      ]
     },
     "execution_count": 109,
     "metadata": {},
     "output_type": "execute_result"
    }
   ],
   "source": [
    "emotion = one_hot(emotion_id, n_values=7)\n",
    "emotion"
   ]
  },
  {
   "cell_type": "markdown",
   "metadata": {},
   "source": [
    "##### not using mnist"
   ]
  },
  {
   "cell_type": "code",
   "execution_count": 110,
   "metadata": {
    "collapsed": true
   },
   "outputs": [],
   "source": [
    "emotion_feature = emotion"
   ]
  },
  {
   "cell_type": "code",
   "execution_count": 111,
   "metadata": {},
   "outputs": [
    {
     "data": {
      "text/plain": [
       "array([ 0.04221375,  0.58281521, -1.10061918,  1.14472371,  0.90159072,\n",
       "        0.50249434,  0.90085595, -0.68372786, -0.12289023, -0.93576943,\n",
       "       -0.26788808,  0.53035547, -0.69166075, -0.39675353, -0.6871727 ,\n",
       "       -0.84520564, -0.67124613, -0.0126646 , -1.11731035,  0.2344157 ])"
      ]
     },
     "execution_count": 111,
     "metadata": {},
     "output_type": "execute_result"
    }
   ],
   "source": [
    "z = rng.randn(n) # z ~ n(0,1)\n",
    "z"
   ]
  },
  {
   "cell_type": "code",
   "execution_count": 112,
   "metadata": {
    "collapsed": true
   },
   "outputs": [],
   "source": [
    "# calculate by hand\n",
    "psd = 3.7\n",
    "pmu = 17.779\n",
    "ysd = 158.#292.\n",
    "ymu = -292.1"
   ]
  },
  {
   "cell_type": "code",
   "execution_count": 113,
   "metadata": {},
   "outputs": [
    {
     "data": {
      "text/plain": [
       "array([ 17.42045266,  16.853782  ,  21.16449957,  10.25056606,\n",
       "        11.81661901,  16.55375011,  12.16037729,  16.74299786,\n",
       "        16.05749248,  23.32762136,  16.88724904,  16.47242397,\n",
       "        17.59777245,  20.58046099,  18.57915167,  18.98161047,\n",
       "        17.72544476,  18.48286276,  19.88637564,  15.17053345])"
      ]
     },
     "execution_count": 113,
     "metadata": {},
     "output_type": "execute_result"
    }
   ],
   "source": [
    "pnoise = 1 # by default is 1, \n",
    "v = rng.randn(n)*pnoise # v ~ n(0,1)\n",
    "\n",
    "price = sensf(time)*(z + 3)  + 25. + v\n",
    "\n",
    "# price = (price - pmu)/psd # why? \n",
    "\n",
    "price"
   ]
  },
  {
   "cell_type": "code",
   "execution_count": 114,
   "metadata": {},
   "outputs": [
    {
     "data": {
      "text/plain": [
       "array([[  4.17022005e+00],\n",
       "       [  7.20324493e+00],\n",
       "       [  1.14374817e-03],\n",
       "       [  3.02332573e+00],\n",
       "       [  1.46755891e+00],\n",
       "       [  9.23385948e-01],\n",
       "       [  1.86260211e+00],\n",
       "       [  3.45560727e+00],\n",
       "       [  3.96767474e+00],\n",
       "       [  5.38816734e+00],\n",
       "       [  4.19194514e+00],\n",
       "       [  6.85219500e+00],\n",
       "       [  2.04452250e+00],\n",
       "       [  8.78117436e+00],\n",
       "       [  2.73875932e-01],\n",
       "       [  6.70467510e+00],\n",
       "       [  4.17304802e+00],\n",
       "       [  5.58689828e+00],\n",
       "       [  1.40386939e+00],\n",
       "       [  1.98101489e+00]])"
      ]
     },
     "execution_count": 114,
     "metadata": {},
     "output_type": "execute_result"
    }
   ],
   "source": [
    "time.reshape((-1,1))"
   ]
  },
  {
   "cell_type": "code",
   "execution_count": 115,
   "metadata": {},
   "outputs": [
    {
     "data": {
      "text/plain": [
       "array([[ 0.,  0.,  0.,  0.,  0.,  1.,  0.],\n",
       "       [ 0.,  1.,  0.,  0.,  0.,  0.,  0.],\n",
       "       [ 0.,  1.,  0.,  0.,  0.,  0.,  0.],\n",
       "       [ 0.,  0.,  0.,  0.,  0.,  1.,  0.],\n",
       "       [ 0.,  0.,  0.,  0.,  0.,  0.,  1.],\n",
       "       [ 0.,  1.,  0.,  0.,  0.,  0.,  0.],\n",
       "       [ 0.,  1.,  0.,  0.,  0.,  0.,  0.],\n",
       "       [ 1.,  0.,  0.,  0.,  0.,  0.,  0.],\n",
       "       [ 0.,  0.,  0.,  0.,  1.,  0.,  0.],\n",
       "       [ 0.,  1.,  0.,  0.,  0.,  0.,  0.],\n",
       "       [ 1.,  0.,  0.,  0.,  0.,  0.,  0.],\n",
       "       [ 1.,  0.,  0.,  0.,  0.,  0.,  0.],\n",
       "       [ 0.,  0.,  0.,  0.,  0.,  1.,  0.],\n",
       "       [ 0.,  0.,  0.,  1.,  0.,  0.,  0.],\n",
       "       [ 0.,  0.,  1.,  0.,  0.,  0.,  0.],\n",
       "       [ 0.,  1.,  0.,  0.,  0.,  0.,  0.],\n",
       "       [ 1.,  0.,  0.,  0.,  0.,  0.,  0.],\n",
       "       [ 0.,  0.,  0.,  0.,  0.,  0.,  1.],\n",
       "       [ 0.,  0.,  0.,  1.,  0.,  0.,  0.],\n",
       "       [ 0.,  0.,  0.,  0.,  0.,  0.,  1.]])"
      ]
     },
     "execution_count": 115,
     "metadata": {},
     "output_type": "execute_result"
    }
   ],
   "source": [
    "emotion_feature"
   ]
  },
  {
   "cell_type": "code",
   "execution_count": 116,
   "metadata": {
    "scrolled": true
   },
   "outputs": [
    {
     "data": {
      "text/plain": [
       "array([[  4.17022005e+00,   0.00000000e+00,   0.00000000e+00,\n",
       "          0.00000000e+00,   0.00000000e+00,   0.00000000e+00,\n",
       "          1.00000000e+00,   0.00000000e+00],\n",
       "       [  7.20324493e+00,   0.00000000e+00,   1.00000000e+00,\n",
       "          0.00000000e+00,   0.00000000e+00,   0.00000000e+00,\n",
       "          0.00000000e+00,   0.00000000e+00],\n",
       "       [  1.14374817e-03,   0.00000000e+00,   1.00000000e+00,\n",
       "          0.00000000e+00,   0.00000000e+00,   0.00000000e+00,\n",
       "          0.00000000e+00,   0.00000000e+00],\n",
       "       [  3.02332573e+00,   0.00000000e+00,   0.00000000e+00,\n",
       "          0.00000000e+00,   0.00000000e+00,   0.00000000e+00,\n",
       "          1.00000000e+00,   0.00000000e+00],\n",
       "       [  1.46755891e+00,   0.00000000e+00,   0.00000000e+00,\n",
       "          0.00000000e+00,   0.00000000e+00,   0.00000000e+00,\n",
       "          0.00000000e+00,   1.00000000e+00],\n",
       "       [  9.23385948e-01,   0.00000000e+00,   1.00000000e+00,\n",
       "          0.00000000e+00,   0.00000000e+00,   0.00000000e+00,\n",
       "          0.00000000e+00,   0.00000000e+00],\n",
       "       [  1.86260211e+00,   0.00000000e+00,   1.00000000e+00,\n",
       "          0.00000000e+00,   0.00000000e+00,   0.00000000e+00,\n",
       "          0.00000000e+00,   0.00000000e+00],\n",
       "       [  3.45560727e+00,   1.00000000e+00,   0.00000000e+00,\n",
       "          0.00000000e+00,   0.00000000e+00,   0.00000000e+00,\n",
       "          0.00000000e+00,   0.00000000e+00],\n",
       "       [  3.96767474e+00,   0.00000000e+00,   0.00000000e+00,\n",
       "          0.00000000e+00,   0.00000000e+00,   1.00000000e+00,\n",
       "          0.00000000e+00,   0.00000000e+00],\n",
       "       [  5.38816734e+00,   0.00000000e+00,   1.00000000e+00,\n",
       "          0.00000000e+00,   0.00000000e+00,   0.00000000e+00,\n",
       "          0.00000000e+00,   0.00000000e+00],\n",
       "       [  4.19194514e+00,   1.00000000e+00,   0.00000000e+00,\n",
       "          0.00000000e+00,   0.00000000e+00,   0.00000000e+00,\n",
       "          0.00000000e+00,   0.00000000e+00],\n",
       "       [  6.85219500e+00,   1.00000000e+00,   0.00000000e+00,\n",
       "          0.00000000e+00,   0.00000000e+00,   0.00000000e+00,\n",
       "          0.00000000e+00,   0.00000000e+00],\n",
       "       [  2.04452250e+00,   0.00000000e+00,   0.00000000e+00,\n",
       "          0.00000000e+00,   0.00000000e+00,   0.00000000e+00,\n",
       "          1.00000000e+00,   0.00000000e+00],\n",
       "       [  8.78117436e+00,   0.00000000e+00,   0.00000000e+00,\n",
       "          0.00000000e+00,   1.00000000e+00,   0.00000000e+00,\n",
       "          0.00000000e+00,   0.00000000e+00],\n",
       "       [  2.73875932e-01,   0.00000000e+00,   0.00000000e+00,\n",
       "          1.00000000e+00,   0.00000000e+00,   0.00000000e+00,\n",
       "          0.00000000e+00,   0.00000000e+00],\n",
       "       [  6.70467510e+00,   0.00000000e+00,   1.00000000e+00,\n",
       "          0.00000000e+00,   0.00000000e+00,   0.00000000e+00,\n",
       "          0.00000000e+00,   0.00000000e+00],\n",
       "       [  4.17304802e+00,   1.00000000e+00,   0.00000000e+00,\n",
       "          0.00000000e+00,   0.00000000e+00,   0.00000000e+00,\n",
       "          0.00000000e+00,   0.00000000e+00],\n",
       "       [  5.58689828e+00,   0.00000000e+00,   0.00000000e+00,\n",
       "          0.00000000e+00,   0.00000000e+00,   0.00000000e+00,\n",
       "          0.00000000e+00,   1.00000000e+00],\n",
       "       [  1.40386939e+00,   0.00000000e+00,   0.00000000e+00,\n",
       "          0.00000000e+00,   1.00000000e+00,   0.00000000e+00,\n",
       "          0.00000000e+00,   0.00000000e+00],\n",
       "       [  1.98101489e+00,   0.00000000e+00,   0.00000000e+00,\n",
       "          0.00000000e+00,   0.00000000e+00,   0.00000000e+00,\n",
       "          0.00000000e+00,   1.00000000e+00]])"
      ]
     },
     "execution_count": 116,
     "metadata": {},
     "output_type": "execute_result"
    }
   ],
   "source": [
    "np.concatenate([time.reshape((-1, 1)), emotion_feature], axis=1)"
   ]
  },
  {
   "cell_type": "code",
   "execution_count": 117,
   "metadata": {
    "scrolled": true
   },
   "outputs": [
    {
     "data": {
      "text/plain": [
       "array([[  4.17022005e+00,   0.00000000e+00,   0.00000000e+00,\n",
       "          0.00000000e+00,   0.00000000e+00,   0.00000000e+00,\n",
       "          1.00000000e+00,   0.00000000e+00],\n",
       "       [  7.20324493e+00,   0.00000000e+00,   1.00000000e+00,\n",
       "          0.00000000e+00,   0.00000000e+00,   0.00000000e+00,\n",
       "          0.00000000e+00,   0.00000000e+00],\n",
       "       [  1.14374817e-03,   0.00000000e+00,   1.00000000e+00,\n",
       "          0.00000000e+00,   0.00000000e+00,   0.00000000e+00,\n",
       "          0.00000000e+00,   0.00000000e+00],\n",
       "       [  3.02332573e+00,   0.00000000e+00,   0.00000000e+00,\n",
       "          0.00000000e+00,   0.00000000e+00,   0.00000000e+00,\n",
       "          1.00000000e+00,   0.00000000e+00],\n",
       "       [  1.46755891e+00,   0.00000000e+00,   0.00000000e+00,\n",
       "          0.00000000e+00,   0.00000000e+00,   0.00000000e+00,\n",
       "          0.00000000e+00,   1.00000000e+00],\n",
       "       [  9.23385948e-01,   0.00000000e+00,   1.00000000e+00,\n",
       "          0.00000000e+00,   0.00000000e+00,   0.00000000e+00,\n",
       "          0.00000000e+00,   0.00000000e+00],\n",
       "       [  1.86260211e+00,   0.00000000e+00,   1.00000000e+00,\n",
       "          0.00000000e+00,   0.00000000e+00,   0.00000000e+00,\n",
       "          0.00000000e+00,   0.00000000e+00],\n",
       "       [  3.45560727e+00,   1.00000000e+00,   0.00000000e+00,\n",
       "          0.00000000e+00,   0.00000000e+00,   0.00000000e+00,\n",
       "          0.00000000e+00,   0.00000000e+00],\n",
       "       [  3.96767474e+00,   0.00000000e+00,   0.00000000e+00,\n",
       "          0.00000000e+00,   0.00000000e+00,   1.00000000e+00,\n",
       "          0.00000000e+00,   0.00000000e+00],\n",
       "       [  5.38816734e+00,   0.00000000e+00,   1.00000000e+00,\n",
       "          0.00000000e+00,   0.00000000e+00,   0.00000000e+00,\n",
       "          0.00000000e+00,   0.00000000e+00],\n",
       "       [  4.19194514e+00,   1.00000000e+00,   0.00000000e+00,\n",
       "          0.00000000e+00,   0.00000000e+00,   0.00000000e+00,\n",
       "          0.00000000e+00,   0.00000000e+00],\n",
       "       [  6.85219500e+00,   1.00000000e+00,   0.00000000e+00,\n",
       "          0.00000000e+00,   0.00000000e+00,   0.00000000e+00,\n",
       "          0.00000000e+00,   0.00000000e+00],\n",
       "       [  2.04452250e+00,   0.00000000e+00,   0.00000000e+00,\n",
       "          0.00000000e+00,   0.00000000e+00,   0.00000000e+00,\n",
       "          1.00000000e+00,   0.00000000e+00],\n",
       "       [  8.78117436e+00,   0.00000000e+00,   0.00000000e+00,\n",
       "          0.00000000e+00,   1.00000000e+00,   0.00000000e+00,\n",
       "          0.00000000e+00,   0.00000000e+00],\n",
       "       [  2.73875932e-01,   0.00000000e+00,   0.00000000e+00,\n",
       "          1.00000000e+00,   0.00000000e+00,   0.00000000e+00,\n",
       "          0.00000000e+00,   0.00000000e+00],\n",
       "       [  6.70467510e+00,   0.00000000e+00,   1.00000000e+00,\n",
       "          0.00000000e+00,   0.00000000e+00,   0.00000000e+00,\n",
       "          0.00000000e+00,   0.00000000e+00],\n",
       "       [  4.17304802e+00,   1.00000000e+00,   0.00000000e+00,\n",
       "          0.00000000e+00,   0.00000000e+00,   0.00000000e+00,\n",
       "          0.00000000e+00,   0.00000000e+00],\n",
       "       [  5.58689828e+00,   0.00000000e+00,   0.00000000e+00,\n",
       "          0.00000000e+00,   0.00000000e+00,   0.00000000e+00,\n",
       "          0.00000000e+00,   1.00000000e+00],\n",
       "       [  1.40386939e+00,   0.00000000e+00,   0.00000000e+00,\n",
       "          0.00000000e+00,   1.00000000e+00,   0.00000000e+00,\n",
       "          0.00000000e+00,   0.00000000e+00],\n",
       "       [  1.98101489e+00,   0.00000000e+00,   0.00000000e+00,\n",
       "          0.00000000e+00,   0.00000000e+00,   0.00000000e+00,\n",
       "          0.00000000e+00,   1.00000000e+00]])"
      ]
     },
     "execution_count": 117,
     "metadata": {},
     "output_type": "execute_result"
    }
   ],
   "source": [
    "np.concatenate([time.reshape((-1, 1)), emotion], axis=1)"
   ]
  },
  {
   "cell_type": "code",
   "execution_count": 118,
   "metadata": {},
   "outputs": [],
   "source": [
    "# true observable demand function\n",
    "x = np.concatenate([time.reshape((-1, 1)), emotion_feature], axis=1)\n",
    "x_latent = np.concatenate([time.reshape((-1, 1)), emotion], axis=1)\n",
    "g = lambda x, z, p: storeg(x, p) # doesn't use z\n"
   ]
  },
  {
   "cell_type": "code",
   "execution_count": 119,
   "metadata": {},
   "outputs": [
    {
     "data": {
      "text/plain": [
       "array([ 6.,  2.,  2.,  6.,  7.,  2.,  2.,  1.,  5.,  2.,  1.,  1.,  6.,\n",
       "        4.,  3.,  2.,  1.,  7.,  4.,  7.])"
      ]
     },
     "execution_count": 119,
     "metadata": {},
     "output_type": "execute_result"
    }
   ],
   "source": [
    "emotion = x[:, 1:]\n",
    "\n",
    "emoc = emocoef(emotion)\n",
    "emoc"
   ]
  },
  {
   "cell_type": "code",
   "execution_count": 120,
   "metadata": {},
   "outputs": [
    {
     "data": {
      "text/plain": [
       "array([5, 1, 1, 5, 6, 1, 1, 0, 4, 1, 0, 0, 5, 3, 2, 1, 0, 6, 3, 6])"
      ]
     },
     "execution_count": 120,
     "metadata": {},
     "output_type": "execute_result"
    }
   ],
   "source": [
    "emotion_id # s"
   ]
  },
  {
   "cell_type": "code",
   "execution_count": 121,
   "metadata": {},
   "outputs": [
    {
     "data": {
      "text/plain": [
       "array([  4.17022005e+00,   7.20324493e+00,   1.14374817e-03,\n",
       "         3.02332573e+00,   1.46755891e+00,   9.23385948e-01,\n",
       "         1.86260211e+00,   3.45560727e+00,   3.96767474e+00,\n",
       "         5.38816734e+00,   4.19194514e+00,   6.85219500e+00,\n",
       "         2.04452250e+00,   8.78117436e+00,   2.73875932e-01,\n",
       "         6.70467510e+00,   4.17304802e+00,   5.58689828e+00,\n",
       "         1.40386939e+00,   1.98101489e+00])"
      ]
     },
     "execution_count": 121,
     "metadata": {},
     "output_type": "execute_result"
    }
   ],
   "source": [
    "time = x[:, 0]\n",
    "time # t"
   ]
  },
  {
   "cell_type": "code",
   "execution_count": 122,
   "metadata": {
    "collapsed": true
   },
   "outputs": [],
   "source": [
    "def sensf(t):\n",
    "    return 2.0*((t - 5)**4 / 600 + np.exp(-((t - 5)/0.5)**2) + t/10. - 2)"
   ]
  },
  {
   "cell_type": "markdown",
   "metadata": {},
   "source": [
    "$$ g = 10 \\times s \\phi_t  + p \\times s \\phi_t - 2p + e $$\n",
    "\n",
    "$$ g = 10 \\times s \\phi_t  + (s \\phi_t - 2) \\times p$$"
   ]
  },
  {
   "cell_type": "code",
   "execution_count": 123,
   "metadata": {},
   "outputs": [
    {
     "data": {
      "text/plain": [
       "array([ 17.42045266,  16.853782  ,  21.16449957,  10.25056606,\n",
       "        11.81661901,  16.55375011,  12.16037729,  16.74299786,\n",
       "        16.05749248,  23.32762136,  16.88724904,  16.47242397,\n",
       "        17.59777245,  20.58046099,  18.57915167,  18.98161047,\n",
       "        17.72544476,  18.48286276,  19.88637564,  15.17053345])"
      ]
     },
     "execution_count": 123,
     "metadata": {},
     "output_type": "execute_result"
    }
   ],
   "source": [
    "price"
   ]
  },
  {
   "cell_type": "code",
   "execution_count": 124,
   "metadata": {},
   "outputs": [
    {
     "data": {
      "text/plain": [
       "array([ 17.42045266,  16.853782  ,  21.16449957,  10.25056606,\n",
       "        11.81661901,  16.55375011,  12.16037729,  16.74299786,\n",
       "        16.05749248,  23.32762136,  16.88724904,  16.47242397,\n",
       "        17.59777245,  20.58046099,  18.57915167,  18.98161047,\n",
       "        17.72544476,  18.48286276,  19.88637564,  15.17053345])"
      ]
     },
     "execution_count": 124,
     "metadata": {},
     "output_type": "execute_result"
    }
   ],
   "source": [
    "price.flatten()"
   ]
  },
  {
   "cell_type": "code",
   "execution_count": 125,
   "metadata": {},
   "outputs": [
    {
     "data": {
      "text/plain": [
       "array([-534.5043093 , -166.94550133, -161.89743014, -426.86269013,\n",
       "       -510.41272455, -186.83829862, -170.77927868, -121.46435273,\n",
       "       -445.7142564 , -168.47584957, -114.79617859, -101.5171129 ,\n",
       "       -587.72011145, -232.27548437, -232.82816252, -190.45861407,\n",
       "       -119.57252921, -511.08323936, -417.74661819, -616.51951315])"
      ]
     },
     "execution_count": 125,
     "metadata": {},
     "output_type": "execute_result"
    }
   ],
   "source": [
    "g = sensf(time)*emoc*10. + (emoc*sensf(time)-2.0)*(price.flatten())\n",
    "# ground truth\n",
    "g"
   ]
  },
  {
   "cell_type": "markdown",
   "metadata": {},
   "source": [
    "$$ g = 10 \\times s \\phi_t  + (s \\phi_t - 2) \\times p$$\n",
    "\n",
    "$$ y =  g + 100 + e $$"
   ]
  },
  {
   "cell_type": "code",
   "execution_count": 126,
   "metadata": {},
   "outputs": [],
   "source": [
    "#y = (g - ymu)/ysd\n",
    "#y"
   ]
  },
  {
   "cell_type": "code",
   "execution_count": 133,
   "metadata": {},
   "outputs": [
    {
     "data": {
      "text/plain": [
       "array([[ 1.73588365],\n",
       "       [ 0.40175437],\n",
       "       [-0.9170037 ],\n",
       "       [-0.52197454],\n",
       "       [-0.29581575],\n",
       "       [ 2.12989921],\n",
       "       [-0.02562201],\n",
       "       [-0.88001376],\n",
       "       [ 0.49038905],\n",
       "       [ 1.82464636],\n",
       "       [ 0.26452621],\n",
       "       [ 0.44989487],\n",
       "       [ 0.9363394 ],\n",
       "       [-0.06010425],\n",
       "       [ 0.22878067],\n",
       "       [ 0.38715984],\n",
       "       [ 0.22831449],\n",
       "       [-0.50716445],\n",
       "       [ 1.0325783 ],\n",
       "       [ 0.99705099]])"
      ]
     },
     "execution_count": 133,
     "metadata": {},
     "output_type": "execute_result"
    }
   ],
   "source": [
    "\n",
    "ypcor = 0.8\n",
    "ynoise= 1\n",
    "# e ~ N(\\rho * v, 1 - \\rho^2)\n",
    "# ynoise = 1\n",
    "# pnoise = 1\n",
    "# (ypcor*ynoise/pnoise)*v, constant at every position\n",
    "e = (ypcor*ynoise/pnoise)*v + rng.randn(n)*ynoise*np.sqrt(1-ypcor**2)\n",
    "e.reshape(-1,1)"
   ]
  },
  {
   "cell_type": "code",
   "execution_count": 94,
   "metadata": {},
   "outputs": [
    {
     "data": {
      "text/plain": [
       "array([-1845.19622053,  -607.50536832,  -599.20040052, -1429.91512951,\n",
       "       -1718.34313502,  -673.47546777,  -606.49949637,  -454.64112043,\n",
       "       -1538.33981677,  -625.21363327,  -432.5174214 ,  -387.28590188,\n",
       "       -2025.51225814,  -837.35005822,  -833.88975455,  -691.73582852,\n",
       "        -449.99896595, -1773.0758807 , -1464.60223059, -2101.93896313])"
      ]
     },
     "execution_count": 94,
     "metadata": {},
     "output_type": "execute_result"
    }
   ],
   "source": [
    "g"
   ]
  },
  {
   "cell_type": "code",
   "execution_count": 93,
   "metadata": {},
   "outputs": [
    {
     "data": {
      "text/plain": [
       "array([-1744.24037929,  -506.49291377,  -499.6221461 , -1329.89052806,\n",
       "       -1618.69876667,  -571.76535698,  -507.11579727,  -355.04908749,\n",
       "       -1437.74275051,  -524.10564952,  -332.58102534,  -286.77257066,\n",
       "       -1926.09599228,  -737.44276246,  -734.29607272,  -592.53101226,\n",
       "        -349.95575375, -1673.39395219, -1363.95426117, -2002.16354487])"
      ]
     },
     "execution_count": 93,
     "metadata": {},
     "output_type": "execute_result"
    }
   ],
   "source": [
    "y = g + e + 100\n",
    "y"
   ]
  },
  {
   "cell_type": "code",
   "execution_count": 99,
   "metadata": {},
   "outputs": [],
   "source": [
    "x, z, p, y ,g = demand(20, seed = 1, ynoise = 1., pnoise = 1., ypcor=0.8, use_images=False, test=False)"
   ]
  },
  {
   "cell_type": "code",
   "execution_count": 103,
   "metadata": {
    "scrolled": true
   },
   "outputs": [
    {
     "data": {
      "text/plain": [
       "array([[ 0.04221375],\n",
       "       [ 0.58281521],\n",
       "       [-1.10061918],\n",
       "       [ 1.14472371],\n",
       "       [ 0.90159072],\n",
       "       [ 0.50249434],\n",
       "       [ 0.90085595],\n",
       "       [-0.68372786],\n",
       "       [-0.12289023],\n",
       "       [-0.93576943],\n",
       "       [-0.26788808],\n",
       "       [ 0.53035547],\n",
       "       [-0.69166075],\n",
       "       [-0.39675353],\n",
       "       [-0.6871727 ],\n",
       "       [-0.84520564],\n",
       "       [-0.67124613],\n",
       "       [-0.0126646 ],\n",
       "       [-1.11731035],\n",
       "       [ 0.2344157 ]])"
      ]
     },
     "execution_count": 103,
     "metadata": {},
     "output_type": "execute_result"
    }
   ],
   "source": [
    "z"
   ]
  },
  {
   "cell_type": "code",
   "execution_count": 104,
   "metadata": {
    "scrolled": true
   },
   "outputs": [
    {
     "data": {
      "text/plain": [
       "array([ 1.12141771,  0.40890054, -0.02461696, -0.77516162,  1.27375593,\n",
       "        1.96710175, -1.85798186,  1.23616403,  1.62765075,  0.3380117 ,\n",
       "       -1.19926803,  0.86334532, -0.1809203 , -0.60392063, -1.23005814,\n",
       "        0.5505375 ,  0.79280687, -0.62353073,  0.52057634, -1.14434139])"
      ]
     },
     "execution_count": 104,
     "metadata": {},
     "output_type": "execute_result"
    }
   ],
   "source": [
    "z = rng.randn(n) # z ~ n(0,1)\n",
    "z"
   ]
  },
  {
   "cell_type": "code",
   "execution_count": null,
   "metadata": {
    "collapsed": true
   },
   "outputs": [],
   "source": []
  },
  {
   "cell_type": "code",
   "execution_count": 13,
   "metadata": {
    "collapsed": true
   },
   "outputs": [],
   "source": [
    "def linear_data(n, \n",
    "                seed=None, \n",
    "                sig_d=0.5, \n",
    "                sig_y=2, \n",
    "                sig_t=1.5,\n",
    "                alpha=4, \n",
    "                noiseless_t=False, \n",
    "                **kwargs):\n",
    "    \n",
    "    rng = np.random.RandomState(seed)\n",
    "    nox = lambda z, d: z + 2*d\n",
    "    house_price = lambda alpha, d, nox_val: alpha + 4*d + 2*nox_val\n",
    "\n",
    "    d = rng.randn(n) * sig_d\n",
    "    law = rng.randint(0, 2, n)\n",
    "\n",
    "    if noiseless_t:\n",
    "        t = nox(law, d.mean()) + sig_t*rng.randn(n)\n",
    "    else:\n",
    "        t = (nox(law, d) + sig_t*rng.randn(n) - 0.5) / 1.8\n",
    "    z = law.reshape((-1, 1))\n",
    "    x = np.zeros((n, 0))\n",
    "    y = (house_price(alpha, d, t) + sig_y*rng.randn(n) - 5.)/5.\n",
    "    g_true = lambda x, z, t: house_price(alpha, 0, t)\n",
    "    return x, z, t.reshape((-1, 1)), y.reshape((-1, 1)), g_true\n",
    "\n",
    "\n",
    "def main():\n",
    "    pass\n"
   ]
  },
  {
   "cell_type": "code",
   "execution_count": null,
   "metadata": {
    "collapsed": true
   },
   "outputs": [],
   "source": [
    "def storeg(x, price):\n",
    "    emoc = emocoef(x[:, 1:]) # s\n",
    "    time = x[:, 0]           # t\n",
    "    g = sensf(time)*emoc*10. + (emoc*sensf(time)-2.0)*(psd*price.flatten() + pmu)\n",
    "    g_nrom = (g - ymu)/ysd\n",
    "    return g_norm.reshape(-1, 1)\n"
   ]
  },
  {
   "cell_type": "code",
   "execution_count": 134,
   "metadata": {
    "collapsed": true
   },
   "outputs": [],
   "source": [
    "x, z, p, y ,g = demand(20, seed = 1, \n",
    "                       ynoise = 1., pnoise = 1., \n",
    "                       ypcor=0.8, \n",
    "                       use_images=False, test=False)"
   ]
  },
  {
   "cell_type": "code",
   "execution_count": null,
   "metadata": {
    "collapsed": true
   },
   "outputs": [],
   "source": []
  }
 ],
 "metadata": {
  "kernelspec": {
   "display_name": "Python 3",
   "language": "python",
   "name": "python3"
  },
  "language_info": {
   "codemirror_mode": {
    "name": "ipython",
    "version": 3
   },
   "file_extension": ".py",
   "mimetype": "text/x-python",
   "name": "python",
   "nbconvert_exporter": "python",
   "pygments_lexer": "ipython3",
   "version": "3.6.4"
  }
 },
 "nbformat": 4,
 "nbformat_minor": 2
}
