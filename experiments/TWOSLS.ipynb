{
 "cells": [
  {
   "cell_type": "code",
   "execution_count": 1,
   "metadata": {
    "collapsed": true
   },
   "outputs": [],
   "source": [
    "import argparse\n",
    "import os\n",
    "\n",
    "from sklearn.model_selection import GridSearchCV\n",
    "from sklearn.linear_model import Ridge\n",
    "from sklearn.kernel_ridge import KernelRidge\n",
    "from sklearn.preprocessing import PolynomialFeatures\n",
    "from sklearn.pipeline import Pipeline\n",
    "\n",
    "from sklearn.metrics.pairwise import polynomial_kernel\n",
    "import numpy as np\n",
    "\n",
    "import data_generator"
   ]
  },
  {
   "cell_type": "code",
   "execution_count": 2,
   "metadata": {
    "collapsed": true
   },
   "outputs": [],
   "source": [
    "def fit_twosls(x, z, t, y):\n",
    "    '''\n",
    "    Two stage least squares with polynomial basis function.\n",
    "    '''\n",
    "    params = dict(poly__degree=range(1,4),\n",
    "                  ridge__alpha=np.logspace(-5, 5, 11))\n",
    "    pipe = Pipeline([('poly', PolynomialFeatures()),\n",
    "                     ('ridge', Ridge())])\n",
    "    stage_1 = GridSearchCV(pipe, param_grid=params, cv=5)\n",
    "    if z.shape[1] > 0:\n",
    "        X = np.concatenate([x,z], axis=1)\n",
    "    else:\n",
    "        X = z\n",
    "    stage_1.fit(X,t)\n",
    "    t_hat = stage_1.predict(X)\n",
    "    print(\"First stage paramers: \" + str(stage_1.best_params_ ))\n",
    "\n",
    "    pipe2 = Pipeline([('poly', PolynomialFeatures()),\n",
    "                        ('ridge', Ridge())])\n",
    "    stage_2 = GridSearchCV(pipe2, param_grid=params, cv=5)\n",
    "    X2 = np.concatenate([x,t_hat], axis=1)\n",
    "    stage_2.fit(X2, y)\n",
    "    print(\"Best in sample score: %f\" % stage_2.score(X2, y))\n",
    "    print(\"Second stage paramers: \" + str(stage_2.best_params_  ))\n",
    "\n",
    "    def g_hat(x,z,t):\n",
    "        X_new = np.concatenate([x, t], axis=1)\n",
    "        return stage_2.predict(X_new)\n",
    "    return g_hat"
   ]
  },
  {
   "cell_type": "code",
   "execution_count": null,
   "metadata": {
    "collapsed": true
   },
   "outputs": [],
   "source": [
    "def prepare_file(filename):\n",
    "    if not os.path.exists(filename):\n",
    "        with open(filename, 'w') as f:\n",
    "            f.write('n,seed,endo,mse\\n')\n"
   ]
  },
  {
   "cell_type": "code",
   "execution_count": null,
   "metadata": {
    "collapsed": true
   },
   "outputs": [],
   "source": [
    "df = lambda n, s, test: data_generator.demand(n, s, ypcor=args.endo, test=test)"
   ]
  },
  {
   "cell_type": "code",
   "execution_count": null,
   "metadata": {
    "collapsed": true
   },
   "outputs": [],
   "source": [
    "n_samples = 1000\n",
    "seed = 3\n",
    "\n",
    "x,z,t,y,g = df(n_samples, seed, False)"
   ]
  }
 ],
 "metadata": {
  "kernelspec": {
   "display_name": "Python 3",
   "language": "python",
   "name": "python3"
  },
  "language_info": {
   "codemirror_mode": {
    "name": "ipython",
    "version": 3
   },
   "file_extension": ".py",
   "mimetype": "text/x-python",
   "name": "python",
   "nbconvert_exporter": "python",
   "pygments_lexer": "ipython3",
   "version": "3.6.4"
  }
 },
 "nbformat": 4,
 "nbformat_minor": 2
}
